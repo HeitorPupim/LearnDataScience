{
 "cells": [
  {
   "cell_type": "markdown",
   "metadata": {},
   "source": [
    "# <center> Python Intro - Part 1</center>\n",
    "\n",
    "## 1.1 Why Python?\n",
    "\n",
    "The ML (Machine Learning) methods are highly used in business. This technique uses algorythms that process large amount of data to identify paterns to further previsions. For example, this models can be used to predic the damand of a product, which helps the inventory management, or even understand the behaviour of different kinds of consumers of a retail company.\n",
    "\n",
    "The algorythims named before are built with programming languages and Python is actually on top of every other, as you can see in the graph below:\n",
    "\n",
    "![language_usage](https://i.imgur.com/WkccR7F.png)\n"
   ]
  },
  {
   "cell_type": "markdown",
   "metadata": {},
   "source": []
  }
 ],
 "metadata": {
  "language_info": {
   "name": "python"
  },
  "orig_nbformat": 4
 },
 "nbformat": 4,
 "nbformat_minor": 2
}
