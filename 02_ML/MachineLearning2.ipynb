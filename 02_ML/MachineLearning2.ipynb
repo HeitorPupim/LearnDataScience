{
 "cells": [
  {
   "cell_type": "markdown",
   "metadata": {},
   "source": [
    "# <center> Intro Machine Learning </center>"
   ]
  },
  {
   "cell_type": "markdown",
   "metadata": {},
   "source": [
    "## Content:\n",
    "1. [Introduction](#intro) <br>\n",
    "2. [Definition](#def) <br>\n",
    "3. [ML Algorithm Classificiation](#classes)<br>\n",
    "4. [Supervised Learning](#supervised) <br>\n",
    "5. [Unsupervised Learning](#unsupervised) <br>\n",
    "6. [Conclusion](#encerramento)\n"
   ]
  },
  {
   "cell_type": "markdown",
   "metadata": {},
   "source": [
    "<a id = 'intro'> </a>\n",
    "\n",
    "## 1. Introduction:\n",
    "\n",
    "Machine Learning split from AI and gabe computers a new skill. If you ever got interested about how automated cars work, signature recognition systems, spam filtering, text translation, *Netflix* movie recomendation or image recognition, you probably already know what ML is, but we'll formalise this knowledge."
   ]
  },
  {
   "cell_type": "markdown",
   "metadata": {},
   "source": [
    "<a id =\"def\"> </a>\n",
    "\n",
    "## 2. Definition:\n",
    "\n",
    "Arthur Samuel came with the term Machine Learning in 1959. His program played chess and it was among the first in the world capable of \"learn by itself\". He defined Machine Learning as the fild of study which gaves computres the **Hability of learn without being explicitly being programmed.**\n",
    "In this context, ML is a paradigm of \"tradicional programming\", in which instruction must be explicily given to the computer, to an \"indirect programming, in which the computer learn the \"hidden rules\" in data given.\n",
    "\n",
    "Tom Mitchell, a Computres Scientist known by his contributions in advance of ML, formalised the problem of learning:\n",
    "\n",
    "```\n",
    "A computer is said to learn from experience E with respect to some class of tasks T and perfomance measure P, if its performance at tasks in T, as measured by P, improves with experience E.\n",
    "```\n",
    "\n",
    "### i.e:\n",
    "\n",
    "Imagine that your e-mail programm watches the e-mails you mark as spam or not spam, and based on it, the porgram learns how to better filter your spam. In this case:\n",
    "\n",
    "* Task (T): classify emails as spam or not spam.\n",
    "* Experience (E) : watch you mark emails as spam or not spam.\n",
    "* Performance (P): The number (or fraction) of emails classified correctly as spam/not spam."
   ]
  },
  {
   "cell_type": "markdown",
   "metadata": {},
   "source": [
    "<a id = \"classes\"> </a>\n",
    "\n",
    "## 3. ML Algorithm Classes.\n",
    "\n",
    "In ML, theres different classes of alrithms, whose usage depends on the problem to be solved. In other words, knowing **when to use each one of this classes and correctly determine the problem** are valuable skills that every Data Scientis and ML inthusiasts must have.\n",
    "\n"
   ]
  },
  {
   "cell_type": "markdown",
   "metadata": {},
   "source": [
    "### 3.1 Supervised Learning\n",
    "\n",
    "Supervised Learning is a kind of alorithm of learning in which the **data** gives examples of situations and for each one of them, the model **choses an answer** that the final model should **predict** correctly. Thus, the **purpose** of supervised learning is to **make predictions of data not available, future data or not seen based on learning about already labelled sample.**\n",
    "\n",
    "There is 2 different kinds of problems: *Classification* and *Regression*. The first tries to predict a class (i.e: banana or apple), while the second tries to predict a number (i.e: the price of a renting a house).\n"
   ]
  },
  {
   "cell_type": "markdown",
   "metadata": {},
   "source": [
    "### 3.2 Unsupervised Learning\n",
    "\n",
    "For Unsupervised Learning the sample is not labelled. This means that each example doesn't show the correct answer and already defined that we need to predict.\n",
    "\n",
    "In the example of bananas and apples, with unsupervied learning, we'd only show the \"baby\" a sample of fuits without saying anything and letting he separate the fruits that are \"the same\"\n",
    "\n",
    "<img src=https://www.researchgate.net/publication/329533120/figure/fig1/AS:702267594399761@1544445050584/Supervised-learning-and-unsupervised-learning-Supervised-learning-uses-annotation.png width=\"400\"/>\n",
    "\n",
    "Therefore, we are interested in **finding patterns and structures** in our data.\n",
    "\n",
    "<img src = \"https://lh4.googleusercontent.com/puvyWxPl3qq53K5HIq99XYln3HhDPVsUMkxLHxW7bsbaocVdXAYoAjpA4ZuOfNI5AGlKk7AhR3OEW2bZunE_lHyPMckIxGmXpBStwOQD47yjF7yUl8XR5MnEj4DtNog9c-ECCRdg\" width = \"400\"/>"
   ]
  },
  {
   "cell_type": "markdown",
   "metadata": {},
   "source": [
    "### 3.3 Semi-Supervised Learning\n",
    "\n",
    "Semi-Supervised Learning as you can guess, is a combination of supervised and unsupervised learning. Therefore, data \n"
   ]
  },
  {
   "cell_type": "markdown",
   "metadata": {},
   "source": [
    "This "
   ]
  },
  {
   "cell_type": "code",
   "execution_count": null,
   "metadata": {},
   "outputs": [],
   "source": []
  },
  {
   "cell_type": "markdown",
   "metadata": {},
   "source": []
  }
 ],
 "metadata": {
  "kernelspec": {
   "display_name": "Python 3.8.10 64-bit",
   "language": "python",
   "name": "python3"
  },
  "language_info": {
   "codemirror_mode": {
    "name": "ipython",
    "version": 3
   },
   "file_extension": ".py",
   "mimetype": "text/x-python",
   "name": "python",
   "nbconvert_exporter": "python",
   "pygments_lexer": "ipython3",
   "version": "3.8.10"
  },
  "orig_nbformat": 4,
  "vscode": {
   "interpreter": {
    "hash": "916dbcbb3f70747c44a77c7bcd40155683ae19c65e1c03b4aa3499c5328201f1"
   }
  }
 },
 "nbformat": 4,
 "nbformat_minor": 2
}
