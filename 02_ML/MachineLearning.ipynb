{
 "cells": [
  {
   "cell_type": "markdown",
   "metadata": {},
   "source": [
    "# <center>  Introdução a ML </center>"
   ]
  },
  {
   "cell_type": "markdown",
   "metadata": {},
   "source": [
    "## Sumário:\n",
    "\n",
    "1. [Introdução](#intro) <br>\n",
    "2. [Definição](#def) <br>\n",
    "3. [Classes de algoritmos de ML](#classes) <br>\n",
    "4. [Aprendizado Supervisionado](#supervised) <br>\n",
    "5. [Aprendizado Não Supervisionado](#unsupervised) <br>\n",
    "6. [Encerramento](#encerramento)\n"
   ]
  },
  {
   "cell_type": "markdown",
   "metadata": {},
   "source": [
    "<a id = 'intro' > </a>\n",
    "\n",
    "## 1. Introdução\n",
    "\n",
    "Neste notebook vamos falar brevemente sobre os conceitos básicos de Machine Learning e seus problemas. Machine Learning (ML) significa *Aprendizado de Máquina*, que é um método de análise de dados que automatiza a construção de outros modelos analíticos. Em outras palavras, significa fazer seu computador identificar padrões de comportamento, aprendendo a tomar decisões por conta própria.\n",
    "\n",
    "Um dos exemplos do uso de Machine Learning que está no nosso dia-dia é a Recomendação de Filmes na *Netflix* baseado no seu interesse e seus gostos, bem como carros autônomos, tradução e reconhecimento de texto, filtragem de spam em e-mail, e muito mais!\n"
   ]
  },
  {
   "cell_type": "markdown",
   "metadata": {},
   "source": [
    "## 2. Definição:\n",
    "\n",
    "Quem surgiu com o termo *Machine Learning* foi Arthur Samuel lá em 1959. Esse cara foi um Cientista da Computação que criou um programa capaz de jogar xadrez. Esse programa estava entre um dos primeiros programas que eram capazes de \"aprender sozinho\". Arthur definiu o termo **Machine Learning** como sendo um campo de estudo onde os computadores podiam aprender sem serem explicitamente programados. \n",
    "\n",
    "<iframe src=\"https://giphy.com/embed/ro2tOPw8ywqJi\" width=\"480\" height=\"270\" frameBorder=\"0\" class=\"giphy-embed\" allowFullScreen></iframe>\n",
    "<iframe src=\"https://giphy.com/embed/WwbmjTK5TS87e\" width=\"480\" height=\"270\" frameBorder=\"0\" class=\"giphy-embed\" allowFullScreen></iframe><p><a href=\"https://giphy.com/gifs/cat-dog-chess-WwbmjTK5TS87e\">via GIPHY</a></p>\n",
    "\n",
    "Depois, Tom Mitchel, outro cientista de computação, bastante conhecido por contribuir nos avanços de Machine Learning, formalizou o problema de aprendizado de máquina e definiu:\n",
    "\n",
    "```Um programa de computador \"aprende\" à partir da experiência (E) em relação à uma tarefa (T) e um indicador de performance (P) se seu desempenho em (T), que é medido por (P), melhora a experiência (P)\n",
    "```\n",
    "\n",
    "Por exemplo:\n",
    "\n",
    "A recomendação de filmes na Netflix \"observa\" os filmes que você gosta clicando no botão de like ou deslike. A partir disso, o site consegue recomendar filmes compatíveis com o seu gosto pessoal. Sendo assim:\n",
    "\n",
    "* Tarefa (T): Recomendar filmes para o usuário Joãozinho.\n",
    "* Experiência (E): Observar os filmes que Joãozinho gosta ou não gosta.\n",
    "* Performance (P): Um número que indica quais filmes recomendados pelo site foram assistidos por você, indicando que a recomendação está funcionando!\n"
   ]
  },
  {
   "cell_type": "markdown",
   "metadata": {},
   "source": [
    "<a id = 'classes'> </a>\n",
    "## 3. Classes dos Algoritmos de ML\n",
    "\n",
    "Em ML, temos várias classes para algorítmos, os quais dependem do tipo de problema que você quer resolver. Ou seja, antes de resolver o problema, precisamos entender em qual classe de ML que ele se aplica.\n",
    "\n",
    "Abaixo, vamos citar as principais classificações dos algoritmos de ML, explicitando as diferenças e tudo mais.."
   ]
  },
  {
   "cell_type": "markdown",
   "metadata": {},
   "source": [
    "### 3.1 Aprendizado Supervisionado (Supervised Learning)\n",
    "\n",
    "O aprendizado supervisionado consiste em fazer predições, utilizando resultados conhecidos (dados rotulados). Para isso, imagine que vamos fazer o computador identificar o que são motos ou carros.\n",
    "Ao mostrar imagens de varios modelos de moto e dizendo para o computador: isto aqui é uma moto e ao mesmo tempo várias imagens de carro, dizendo: ei, isto aqui é um carro, fazemos o computador conseguir distinguir um tipo de veículo do outro. \n",
    "Dessa forma, depois de um tempom vamos conseguir mostrar uma imagem de uma moto aleatória (não mostrada anteriormente) e ele vai conseguir nos dizer se aquilo é uma moto ou um carro!\n",
    "\n",
    "O aprendizado é chamado de supervisionado, por que você tem que \"dizer\" para o pc o que é cada coisa (isso é uma moto/ isso é um carro), ou seja, \"rotular\" aquele dado.\n",
    "\n",
    "Ou seja, o computador vai então ser capaz de fazer previsões de dados não disponíveis, futuros ou não vistos baseados no aprendizado das amostras.\n",
    "\n",
    "Existem 2 tipos de problemas de Aprendizado Supervisionado:\n",
    "\n",
    "* Classificação\n",
    "* Regressão\n",
    "\n",
    "A **Classificação** é quando tentamos prever uma classe, ou seja, uma **moto**, um **carro**, **um jetski**, e por aí vai..\n",
    "\n",
    "A **Regressão** é quando tentamos prever um número, ou seja, qual será o preço de uma casa com 2 dormitórios, 3 banheiros, sendo uma suíte, etc?\n"
   ]
  },
  {
   "cell_type": "markdown",
   "metadata": {},
   "source": [
    "### 3.2 Aprendizado Não Supervisionado\n",
    "\n",
    "\n",
    "Diferente do anterior, agora os **dados não estão rotulados**, então cada exemplo não tem uma resposta correta e já definida daquilo que queremos prever.\n",
    "\n",
    "Por exemplo, no aprendizado não supervisionado, quando mostramos uma moto ou um carro, não vamos o que aquele veículo é. Portanto, vamos deixar que o PC faça um agrupamento. Se mostrarmos algo parecido com uma moto, ele vai agrupar como sendo uma moto, e o mesmo raciocínio para o carro.\n",
    "\n",
    "Assim, o Aprendizado Não Supervisionado tenta **descrobrir padrões** nos dados, por exemplo, toda moto tem 2 pneus, enquanto carros tem 4.\n",
    "\n",
    "Nas figuras abaixo podemos ter uma noção melhor dos modelos.\n",
    "\n",
    "<img src=https://www.researchgate.net/publication/329533120/figure/fig1/AS:702267594399761@1544445050584/Supervised-learning-and-unsupervised-learning-Supervised-learning-uses-annotation.png width=\"400\"/>\n",
    "\n",
    "<img src = https://assets-global.website-files.com/5d7b77b063a9066d83e1209c/6158dd5b5c04105262363e0b_0EsztWB4PUcurf7VvW553TcUeF0GE5eBtxYMjb17rBh5fyhVL_C0LfCP19I4r9jxCDCPTc-bCqLSNdRl3y8ACpfK8by3KimdQxQ323EK3W0jysnqFF1cTADD724ed60xomlPsSpc%3Ds0.png width= \"400\"/>\n"
   ]
  },
  {
   "cell_type": "markdown",
   "metadata": {},
   "source": [
    "### 3.3 Aprendizado Semi-Supervisionado (Semi-Supervised Learning)\n",
    "\n",
    "O aprendizado semi supervisionado é um mix dos 2 modelos anteriores. Para esse modelo, os dados tem uma combinação de rotulados e não rotulados. Este aprendizado é bastante útil nas vezes que precisamos rotular dados de forma mais rápida. \n",
    "\n",
    "Um exemplo disso é quando tentamos classificar os pixels de uma imagem que podem representar um carro, uma casa, uma pessoa, o céu, um vulcão, etc.. Para fazer uma predição do que é cada coisa, precisaríamos dizer ao computador o que é cada coisa e para o caso de MUITAS COISAS, teríamos que dizer o que é cada uma delas.. Imagina o tempo que isso demoraria?! \n",
    "\n",
    "Um exemplo deste tipo de aprendizado é o GooglePhotos ou o Photos da Apple, que é capaz de reconhecer uma pessoa em uma imagem. É claro que o app não conhece aquela pessoa do seu circulo de amigos ou família, mas ele notou que essa pessoa apareceu nas fotos de fim de ano e num final de semana aleatório. Daí, o sistema vai sugerir é que você coloque o nome daquela pessoa, assim, todas as vezes que ela aparecer em suas fotos, você pode filtrar por: \"Fotos do tio João\", e o app te retorna todas as fotos com o seu tio!\n",
    "\n",
    "A habilidade de agrupar as fotos com essa pessoa é nomeada como **clustering**\n",
    "\n",
    "**Conjunto de Dados:**\n",
    "\n",
    "<img src= https://assets-global.website-files.com/5d7b77b063a9066d83e1209c/62d92122009e3dc9da19febe_IN%20TEXT%20ASSET%20-%20Purple.jpg width = '400px'/>\n",
    "\n",
    "**Aplicação do aprendizado supervisionado:**\n",
    "\n",
    "<img src = https://assets-global.website-files.com/5d7b77b063a9066d83e1209c/62d92141426f595323eac189_IN%20TEXT%20ASSET%20-%20Purple-1.jpg width = \"400px\"/>\n",
    "\n",
    "Note que os dados não suficientemente rotulados para conseguirmos separar em grupo de uma forma eficaz..\n",
    "\n",
    "**Aplicação do aprendizado semi-supervisionado:**\n",
    "\n",
    "<img src = https://assets-global.website-files.com/5d7b77b063a9066d83e1209c/62d921590b694c70e0d4064a_IN%20TEXT%20ASSET%20-%20Purple-3.jpg width = \"400px\"/>\n",
    "\n",
    "Com uma parte dos dados rotulados, conseguimos fazer uma melhor divisão da figura, fazendo essas curvinhas que separam o roxo do verde e agrupam em um grupo diferente.\n",
    "\n"
   ]
  },
  {
   "cell_type": "markdown",
   "metadata": {},
   "source": [
    "### 3.4 Aprendizado por Reforço (Reinforcement Learning)\n",
    "\n",
    "Pra este caso, o objetivo é fazer um *agente* ou um sistema que aprenda se *comportar* em um ambiente e recebendo *recompensas*. Assim, o sistema define qual é a melhor estratégia para ganhar a maior recompensa ao longo do tempo!\n",
    "\n",
    "Um dos exemplos disso são inteligencias artificiais que jogam Xadrez, Super Mário e outros jogos, como também os carros autônomos. Atualmente esse campo tem avançado para aplicações do mercado financeiro para prever ações!\n",
    "\n",
    "Um exemplo seria:\n",
    "\n",
    "O gato é um agente que está exposto ao ambiente (sua casa). Um exemplo de comando seria fazer o gato \"sentar\" e se ele fizer isso recebe um petisco!\n",
    "\n",
    "O agente faz a ação mudando de um estado para o outro (sentado ou não.)\n",
    "\n",
    "<img src = https://www.guru99.com/images/1/082319_0514_Reinforceme2.png width = '400px'/>\n"
   ]
  },
  {
   "cell_type": "markdown",
   "metadata": {},
   "source": [
    "### 3.5 Sistemas de Recomendação (Recomendation Systems)\n",
    "\n",
    "Esse daqui é um dos mais famosos. Sabe quando você vai vê um produto legal no Mercado Livre ou na Amazon, daí aparecem mais 3 produtos relacionados ou até mesmo produtos que você tinha pesquisado 1 mês antes? Então, esssas aplicações de recomendação são utilizadas por conceitos de aprendizado supervisionado e supervisionado!\n",
    "\n",
    "<center><img src = https://lf16-static.bytepluscdn.com/obj/byteplus-sg/platform-fe/byteplus-website/static/media/overview.f64e1779.webp width = '500px'></center>"
   ]
  },
  {
   "cell_type": "markdown",
   "metadata": {},
   "source": [
    "<a id = 'supervised'> </a>\n",
    "## 4. Aprendizado Supervisionado\n",
    "\n"
   ]
  },
  {
   "cell_type": "markdown",
   "metadata": {},
   "source": [
    "Como citado anteriormente, sabemos que um algoritmo supervisinado usa um conjunto de pares de características-alvo $(X, y)$ no qual o modelo deve ser treinado. Dado um $X$, temos que prever $y$. Depois, precisamos prever as respostas quando observamos fora do \"Treino\".\n",
    "\n",
    "<center>\n",
    "<img src = https://ram-ai.com/machine-learning/img/pdf-images/process-icons.png width = '600px'/>\n",
    "</center>"
   ]
  },
  {
   "cell_type": "markdown",
   "metadata": {},
   "source": [
    "### 4.1 Definições\n",
    "\n",
    "Curso "
   ]
  }
 ],
 "metadata": {
  "language_info": {
   "name": "python"
  },
  "orig_nbformat": 4
 },
 "nbformat": 4,
 "nbformat_minor": 2
}
